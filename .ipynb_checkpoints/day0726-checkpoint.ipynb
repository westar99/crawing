{
  "nbformat": 4,
  "nbformat_minor": 0,
  "metadata": {
    "colab": {
      "name": "day0726.ipynb",
      "provenance": [],
      "collapsed_sections": []
    },
    "kernelspec": {
      "name": "python3",
      "display_name": "Python 3"
    },
    "language_info": {
      "name": "python"
    }
  },
  "cells": [
    {
      "cell_type": "markdown",
      "source": [
        "## request로 웹페이지 문서 불러오기\n"
      ],
      "metadata": {
        "id": "DevK4A9jBT9W"
      }
    },
    {
      "cell_type": "code",
      "source": [
        "import requests\n",
        "from bs4 import BeautifulSoup\n",
        "\n",
        "url = \"https://www.naver.com\"\n",
        "\n",
        "req = requests.get(url) # 웹내용을 텍스트로 만들어줌.\n",
        "print(req.status_code) # 웹페이지가 존재하면 200이라는 숫자가 뜬다. 웹페이지가 없으면 404가 생김\n",
        "#print(req.text)"
      ],
      "metadata": {
        "colab": {
          "base_uri": "https://localhost:8080/"
        },
        "id": "jzqhzU9gBd9g",
        "outputId": "21019e20-bbc0-473a-96a9-07e82e55b8c0"
      },
      "execution_count": 2,
      "outputs": [
        {
          "output_type": "stream",
          "name": "stdout",
          "text": [
            "200\n"
          ]
        }
      ]
    },
    {
      "cell_type": "code",
      "source": [
        "import requests\n",
        "from bs4 import BeautifulSoup\n",
        "\n",
        "def crawling(soup): # 크롤링할 클래스 명을 찾아서 넣으면 됨\n",
        "  div = soup.find(\"div\",class_ = \"list_issue\")\n",
        "  #print(div)\n",
        "  result = []\n",
        "\n",
        "  for a in div.find_all(\"a\"):\n",
        "    #print(a.get_text())\n",
        "    result.append(a.get_text())\n",
        "\n",
        "  links = []\n",
        "  for a in div.find_all(\"a\"):\n",
        "    #print(a['href'])\n",
        "    #result.append(a.get_text())\n",
        "    links.append(a['href'])\n",
        "\n",
        "  print(result)\n",
        "  print(links)\n",
        "  #new_list = pd.DataFrame({'제목': result,'링크': links})\n",
        "   \n",
        "  #return new_list\n",
        "  return None\n",
        "\n",
        "def main():\n",
        "  print(\"Main\")\n",
        "\n",
        "  url =\"https://www.naver.com/\"\n",
        "  req = requests.get(url)\n",
        "  soup = BeautifulSoup(req.text,\"html.parser\")\n",
        "\n",
        "  crawling(soup)\n",
        "\n",
        "\n",
        "if __name__==\"__main__\":\n",
        "  main()"
      ],
      "metadata": {
        "colab": {
          "base_uri": "https://localhost:8080/"
        },
        "id": "ofTWZhtZBinp",
        "outputId": "18d9e2a1-39f8-489b-b7fe-89346cf61f87"
      },
      "execution_count": 20,
      "outputs": [
        {
          "output_type": "stream",
          "name": "stdout",
          "text": [
            "Main\n",
            "[\"'행안부 경찰국 신설안' 국무회의 통과…내달 2일 공포\", '한동훈 \"사면, 대통령 고유권한…기준·방향 말하는건 부적절\"', '尹, 한동훈에 \"부정부패 엄정대응…기업위축 과도한 형벌 개선\"', '한총리 \"흥청망청 재정, 타이트한 재정으로…건전성 회복 목표\"', '국방부 \"유엔사, 판문점 통과 허용한 것…북송 승인 의미 아냐\"', 'BA.5 사실상 우세종…국내감염 검출률 49.1%, 해외 합치면 56.3%', '\"금리 1%p 더 오르면 대출자 97만명, 2금융권서도 밀려나\"', '한국인 기대수명 83.5세로 증가…외래진료 1년에 14.7번 간다', '용산정비창, 초고층 복합업무지구로 탈바꿈…\"롯데타워급 가능\"', '대우조선 경영진 \"책임 통감…위기 극복하고 거취 포함 책임질 것\"']\n",
            "['https://news.naver.com/main/list.naver?mode=LPOD&mid=sec&sid1=001&sid2=140&oid=001&isYeonhapFlash=Y&aid=0013334288', 'https://news.naver.com/main/list.naver?mode=LPOD&mid=sec&sid1=001&sid2=140&oid=001&isYeonhapFlash=Y&aid=0013334689', 'https://news.naver.com/main/list.naver?mode=LPOD&mid=sec&sid1=001&sid2=140&oid=001&isYeonhapFlash=Y&aid=0013334556', 'https://news.naver.com/main/list.naver?mode=LPOD&mid=sec&sid1=001&sid2=140&oid=001&isYeonhapFlash=Y&aid=0013335408', 'https://news.naver.com/main/list.naver?mode=LPOD&mid=sec&sid1=001&sid2=140&oid=001&isYeonhapFlash=Y&aid=0013334533', 'https://news.naver.com/main/list.naver?mode=LPOD&mid=sec&sid1=001&sid2=140&oid=001&isYeonhapFlash=Y&aid=0013335089', 'https://news.naver.com/main/list.naver?mode=LPOD&mid=sec&sid1=001&sid2=140&oid=001&isYeonhapFlash=Y&aid=0013334570', 'https://news.naver.com/main/list.naver?mode=LPOD&mid=sec&sid1=001&sid2=140&oid=001&isYeonhapFlash=Y&aid=0013334595', 'https://news.naver.com/main/list.naver?mode=LPOD&mid=sec&sid1=001&sid2=140&oid=001&isYeonhapFlash=Y&aid=0013334642', 'https://news.naver.com/main/list.naver?mode=LPOD&mid=sec&sid1=001&sid2=140&oid=001&isYeonhapFlash=Y&aid=0013335458']\n"
          ]
        }
      ]
    },
    {
      "cell_type": "code",
      "source": [
        "import pandas as pd"
      ],
      "metadata": {
        "id": "LS_abDoWSbw2"
      },
      "execution_count": 12,
      "outputs": []
    },
    {
      "cell_type": "code",
      "source": [
        "import requests\n",
        "from bs4 import BeautifulSoup\n",
        "\n",
        "def crawling(soup): \n",
        "  tbody = soup.find(\"tbody\")\n",
        "  #print(tbody)\n",
        "  \n",
        "  result = []\n",
        "\n",
        "  for p in tbody.find_all(\"p\",class_ = \"title\"):\n",
        "    result.append(p.find(\"a\").get_text())\n",
        "\n",
        "  return result\n",
        "\n",
        "\n",
        "def main():\n",
        "  \n",
        "  url =\"https://music.bugs.co.kr/chart\"\n",
        "  req = requests.get(url)\n",
        "  soup = BeautifulSoup(req.text,\"html.parser\")\n",
        "\n",
        "  print(crawling(soup))\n",
        "\n",
        "\n",
        "if __name__ == \"__main__\":\n",
        "   main()"
      ],
      "metadata": {
        "colab": {
          "base_uri": "https://localhost:8080/"
        },
        "id": "xgXfXUGFUSwE",
        "outputId": "e66526ea-47a7-4163-f298-220cddcab42c"
      },
      "execution_count": 41,
      "outputs": [
        {
          "output_type": "stream",
          "name": "stdout",
          "text": [
            "['Somebody!', '그때 그 순간 그대로 (그그그)', 'SNEAKERS', 'POP!', '보고싶었어', 'Girls', 'LOVE DIVE', '그라데이션', 'Sparkling', '사랑이야', \"I Ain't Worried\", 'Clink Clink (클링 클링)', '열이올라요 (Heart Burn)', 'That That (prod. & feat. SUGA of BTS)', '도깨비불 (Illusion)', 'Nerdy', 'BEAUTIFUL MONSTER', '없었던 일로', 'TOMBOY', 'Stay This Way', 'FEARLESS', '정이라고 하자 (Feat. 10CM)', '안하기가 쉽지 않아요', '나의 X에게', 'SuMMer RaiN', 'ELEVEN', 'GANADARA (Feat. 아이유)', 'Happy Birthday', 'I LOVE U', 'Skydivin’', 'I Like You (A Happier Song) (feat. Doja Cat)', 'Love story', 'Left and Right (Feat. Jung Kook of BTS)', '사랑인가 봐', \"That's Hilarious\", \"바보에게 바보가 (웹툰 '연애의 발견' X 이석훈)\", 'Feel My Rhythm', 'LOVE me', '말리지 마', '러브 쉿!', 'Next Level', '팡파레', '사랑할 수 없는 너에게', '신호등', '다 거짓말일 뿐인걸', 'MY BAG', '봄여름가을겨울 (Still Life)', '나빌레라', 'STAY', '드라마', 'Life′s Too Short (English Ver.)', '_WORLD', '늦은 밤 헤어지긴 너무 아쉬워', '취중고백', '다정히 내 이름을 부르면', 'Copycat', 'Weekend', 'Hold My Hand', '너의 모든 순간', 'SMILEY (Feat. BIBI)', 'INVU', '낙하 (with 아이유)', 'strawberry moon', '기울이면', '아무래도 난', 'Yet To Come', '너에게 꼭 말하고 싶은 게 있어', '해요 (2022)', '온통 그대뿐인 나죠', '참고사항', '내가 아니라도', '봄 to 러브', '듣고 싶을까', '2step (feat. Lil Baby)', 'Seoul', 'Off My Face', '어마어마해', '너를 생각해', 'Drive', '사랑은 늘 도망가', '마지막 너의 인사', 'Antifreeze', '우리들의 블루스', '스티커 사진', '낭만교향곡 (Feat. CHANGMO, 박재범)', 'Celebrity', '어쩌면 우리 (Feat. 죠지)', '모든 날, 모든 순간 (Every day, Every Moment)', 'Playlist', 'Light Switch', '도둑놈 (Feat. 민니 of (여자)아이들)', 'Better Than Birthday', 'Dynamite', 'SEOUL DRIFT', 'Blueming', 'Happy Song', 'HOT', '라일락', '오르트구름', 'Wrapped Around Your Finger']\n"
          ]
        }
      ]
    },
    {
      "cell_type": "code",
      "source": [
        "import requests\n",
        "from bs4 import BeautifulSoup\n",
        "import pandas as pd\n",
        "\n",
        "def crawling(soup): # 크롤링할 클래스 명을 찾아서 넣으면 됨\n",
        "  div = soup.find(\"div\",class_ = \"list_issue\")\n",
        "  #print(div)\n",
        "  result = []\n",
        "\n",
        "  for a in div.find_all(\"a\"):\n",
        "    #print(a.get_text())\n",
        "    result.append(a.get_text())\n",
        "\n",
        "  links = []\n",
        "  for a in div.find_all(\"a\"):\n",
        "    #print(a['href'])\n",
        "    links.append(a['href'])\n",
        "\n",
        "  #print(result)\n",
        "  #print(links)\n",
        "  new_list = pd.DataFrame({'제목': result,'링크': links})\n",
        "  print(new_list) \n",
        "  \n",
        "\n",
        "def main():\n",
        "  print(\"Main\")\n",
        "\n",
        "  url =\"https://www.naver.com/\"\n",
        "  req = requests.get(url)\n",
        "  soup = BeautifulSoup(req.text,\"html.parser\")\n",
        "\n",
        "  crawling(soup)\n",
        "\n",
        "\n",
        "if __name__ == \"__main__\":\n",
        "  main()"
      ],
      "metadata": {
        "colab": {
          "base_uri": "https://localhost:8080/"
        },
        "id": "ROvTt1N-YpxG",
        "outputId": "63afbc9a-2c6e-42ea-bf46-f0f9d8ac5154"
      },
      "execution_count": 42,
      "outputs": [
        {
          "output_type": "stream",
          "name": "stdout",
          "text": [
            "Main\n",
            "                                          제목  \\\n",
            "0             \"쿠데타\" \"국기문란\" 경고에 경찰국 신설 갈등 최고조   \n",
            "1          한동훈 \"사면, 대통령 고유권한…기준·방향 말하는건 부적절\"   \n",
            "2            尹, 한동훈에 \"기업활동 위축 과도한 형벌규정 개선하라\"   \n",
            "3                 한일의원연맹 신임 회장에 정진석…간사장엔 윤호중   \n",
            "4        국방부 \"유엔사, 판문점 통과 허용한 것…북송 승인 의미 아냐\"   \n",
            "5  BA.5 사실상 우세종…국내감염 검출률 49.1%, 해외 합치면 56.3%   \n",
            "6      노무라 \"올해 한국 성장률 전망치 1.7%로 하향…3분기 침체시작\"   \n",
            "7                     서울 전역에 오존주의보…\"실외활동 자제\"   \n",
            "8       한국인 기대수명 83.5세로 증가…외래진료 1년에 14.7번 간다   \n",
            "9            대통령실 이전·국제업무지구 개발 '겹호재'…들썩이는 용산   \n",
            "\n",
            "                                                  링크  \n",
            "0  https://news.naver.com/main/list.naver?mode=LP...  \n",
            "1  https://news.naver.com/main/list.naver?mode=LP...  \n",
            "2  https://news.naver.com/main/list.naver?mode=LP...  \n",
            "3  https://news.naver.com/main/list.naver?mode=LP...  \n",
            "4  https://news.naver.com/main/list.naver?mode=LP...  \n",
            "5  https://news.naver.com/main/list.naver?mode=LP...  \n",
            "6  https://news.naver.com/main/list.naver?mode=LP...  \n",
            "7  https://news.naver.com/main/list.naver?mode=LP...  \n",
            "8  https://news.naver.com/main/list.naver?mode=LP...  \n",
            "9  https://news.naver.com/main/list.naver?mode=LP...  \n"
          ]
        }
      ]
    }
  ]
}