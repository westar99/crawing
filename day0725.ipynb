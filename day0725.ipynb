{
 "cells": [
  {
   "cell_type": "markdown",
   "id": "d10b1fe5-2a2b-41b0-bc02-350a3c1b6873",
   "metadata": {},
   "source": [
    "## 크롤링을 배워요"
   ]
  },
  {
   "cell_type": "code",
   "execution_count": 7,
   "id": "70e0f670-3b68-4905-8b3c-417486128863",
   "metadata": {},
   "outputs": [
    {
     "name": "stderr",
     "output_type": "stream",
     "text": [
      "C:\\Users\\human\\AppData\\Local\\Temp\\ipykernel_11136\\640968799.py:6: DeprecationWarning: executable_path has been deprecated, please pass in a Service object\n",
      "  driver = webdriver.Chrome('chromedriver.exe')\n"
     ]
    }
   ],
   "source": [
    "from selenium import webdriver\n",
    "from selenium.webdriver.common.keys import Keys\n",
    "\n",
    "#경로\n",
    "#url = 'C:\\\\chatbot\\\\'\n",
    "driver = webdriver.Chrome('chromedriver.exe')\n",
    "#movieURL = 'https://movie.naver.com/movie/bi/mi/pointWriteFormList.naver?code=38899&type=after&isActualPointWriteExecute=false&isMileageSubscriptionAlready=false&isMileageSubscriptionReject=false'\n",
    "url = \"https://www.naver.com\"\n",
    "driver.get(url)\n"
   ]
  },
  {
   "cell_type": "code",
   "execution_count": 15,
   "id": "a0ae94d0-4759-4a0d-990a-48b1cd11a746",
   "metadata": {},
   "outputs": [
    {
     "name": "stdout",
     "output_type": "stream",
     "text": [
      "############################\n",
      "문자를 세는 함수입니다.!!\n",
      "    Args:\n",
      "        content(str): 탐색 문자열\n",
      "        letter(str): 찾을 문자열\n",
      "    \n",
      "    Returns:\n",
      "        int\n",
      "\n",
      "    Raises:\n",
      "        valueError: 만약 Return값이 문자가 아니면 에러를 발생시킨다.\n",
      "    \n",
      "############################\n",
      "함수 테스트!\n",
      "4\n",
      "---------------\n"
     ]
    }
   ],
   "source": [
    "#step1\n",
    "# -*- coding: utf-8 -*-\n",
    "\n",
    "def cnt_letter(content,letter):\n",
    "    \"\"\"문자를 세는 함수입니다.!!\n",
    "    Args:\n",
    "        content(str): 탐색 문자열\n",
    "        letter(str): 찾을 문자열\n",
    "    \n",
    "    Returns:\n",
    "        int\n",
    "\n",
    "    Raises:\n",
    "        valueError: 만약 Return값이 문자가 아니면 에러를 발생시킨다.\n",
    "    \"\"\"    \n",
    "\n",
    "    print(\"함수 테스트!\")\n",
    "    if (not isinstance(letter, str)) or len(letter) != 1:\n",
    "        raise ValueError('`letter` 반드시 숫자여야 합니다.')\n",
    "    return (len([char for char in content if char == letter]))\n",
    "    \n",
    "\n",
    "if __name__ == \"__main__\":\n",
    "    #print(cnt_letter())\n",
    "    docstring = cnt_letter.__doc__\n",
    "\n",
    "    border = \"#\"*28\n",
    "    print('{}\\n{}\\n{}'.format(border, docstring, border))\n",
    "\n",
    "    cal = cnt_letter(\"abcabcabcb\",\"b\") # b가 총 4개\n",
    "    print (cal)\n",
    "    print (\"---------------\")\n",
    "    # print (help(cnt_letter))"
   ]
  },
  {
   "cell_type": "code",
   "execution_count": 9,
   "id": "6b3c83d5-5fb0-49e9-994d-fc1dda792c5a",
   "metadata": {},
   "outputs": [
    {
     "name": "stdout",
     "output_type": "stream",
     "text": [
      "[1]\n",
      "[1, 1]\n",
      "[1, 1, 1]\n",
      "-----\n",
      "[1]\n",
      "[1]\n",
      "[1]\n"
     ]
    }
   ],
   "source": [
    "#step2\n",
    "# -*- coding: utf-8 -*-\n",
    "\n",
    "# 함수에서 list 사용 시 주의할 점- 반복하면서 늘어날 수 있다.\n",
    "# list vs tuple \n",
    "\n",
    "def list_a(var=[]):\n",
    "     var.append(1)\n",
    "     return var\n",
    "\n",
    "def list_b(var=None):\n",
    "    if var is None:\n",
    "        var=[]\n",
    "    var.append(1)\n",
    "    return var        \n",
    "\n",
    "if __name__ == \"__main__\":\n",
    "    print(list_a())\n",
    "    print(list_a())\n",
    "    print(list_a())\n",
    "    print(\"-----\")\n",
    "    print(list_b())\n",
    "    print(list_b())\n",
    "    print(list_b())"
   ]
  },
  {
   "cell_type": "markdown",
   "id": "874b7539-d19a-42dd-8d07-1d7c2f80f1b7",
   "metadata": {},
   "source": [
    " -  text 파일에 있는 글자를 불러와서 단어의 갯수를 세어본다."
   ]
  },
  {
   "cell_type": "code",
   "execution_count": null,
   "id": "a357ab30-9853-4f5e-a433-e8b77f1e6151",
   "metadata": {},
   "outputs": [],
   "source": [
    "#step3\n",
    "# -*- coding: utf-8 -*-\n",
    "# fun_class./data\n",
    "\n",
    "def main():\n",
    "    print(\"파일 불러오기 시작\")\n",
    "    with open(\"data/fun.txt\",encoding=\"utf=8\")as file:\n",
    "        text = file.read()\n",
    "\n",
    "    print(\"파일 불러오기 완료\")\n",
    "\n",
    "    n = 0\n",
    "    for word in text.split():\n",
    "        if word in ['개인정보','메타가']:\n",
    "            n +=1\n",
    "    print(\"단어의 갯수=\",n)\n",
    "\n",
    "if __name__ == \"__main__\":\n",
    "   main()   \n",
    "   "
   ]
  },
  {
   "cell_type": "code",
   "execution_count": 11,
   "id": "a97b565f-dc3e-4d0d-bd08-a4c30c42ba8a",
   "metadata": {},
   "outputs": [
    {
     "name": "stdout",
     "output_type": "stream",
     "text": [
      "DB 생성시작\n"
     ]
    }
   ],
   "source": [
    "#step4\n",
    "# -*- coding: utf-8 -*-\n",
    "\n",
    "import sqlite3\n",
    "\n",
    "def db_create():\n",
    "    print(\"DB 생성시작\")\n",
    "\n",
    "    conn = sqlite3.connect('example.db')\n",
    "    cur = conn.cursor()\n",
    "\n",
    "    # CREATE TABLE\n",
    "    sql_create_query = '''\n",
    "        CREATE TABLE stokcs (\n",
    "            date      text\n",
    "            , trans   text\n",
    "            , symbol  text\n",
    "            , qty     real\n",
    "            , price   real\n",
    "        )\n",
    "    '''\n",
    "\n",
    "    cur.execute(sql_create_query)\n",
    "\n",
    "    # 데이터 추가\n",
    "    sql_insert_query = '''\n",
    "        INSERT INTO stokcs VALUES ('2006-01-05', 'BUY', 'RHAT', 100, 35.14)\n",
    "    '''\n",
    "\n",
    "    cur.execute(sql_insert_query)\n",
    "\n",
    "    # save \n",
    "    conn.commit()\n",
    "    conn.close\n",
    "\n",
    "if __name__ == \"__main__\":\n",
    "    db_create()"
   ]
  },
  {
   "cell_type": "code",
   "execution_count": 12,
   "id": "4605f6ae-e56a-4139-966f-86f624747b87",
   "metadata": {},
   "outputs": [
    {
     "name": "stdout",
     "output_type": "stream",
     "text": [
      "('2006-01-05', 'BUY', 'RHAT', 100.0, 35.14)\n"
     ]
    }
   ],
   "source": [
    "#step5\n",
    "# -*- coding: utf-8 -*-\n",
    "\n",
    "import sqlite3\n",
    "import contextlib\n",
    "\n",
    "@contextlib.contextmanager\n",
    "def db_connect(url):\n",
    "    db= sqlite3.connect(url)\n",
    "\n",
    "    yield db\n",
    "    db.close()\n",
    "\n",
    "\n",
    "def main(url):\n",
    "    with db_connect(url) as conn:\n",
    "        cur = conn.cursor()\n",
    "        sql_get_query='''\n",
    "            SELECT * FROM stokcs     \n",
    "        '''\n",
    "        for row in cur.execute(sql_get_query):\n",
    "            print(row) \n",
    "\n",
    "if __name__ == \"__main__\":\n",
    "    url='example.db'\n",
    "    main(url)"
   ]
  },
  {
   "cell_type": "code",
   "execution_count": 13,
   "id": "369c558e-ca36-4965-93fb-c7ebd64dad01",
   "metadata": {},
   "outputs": [
    {
     "name": "stdout",
     "output_type": "stream",
     "text": [
      "얼마나 오래 걸릴까요?\n",
      "(시간측정(Elapsed): 1.01 초)\n"
     ]
    }
   ],
   "source": [
    "#step6\n",
    "# -*- coding: utf-8 -*-\n",
    "\n",
    "import contextlib\n",
    "import time \n",
    "\n",
    "@contextlib.contextmanager\n",
    "def timer():\n",
    "    # 시간 측정\n",
    "\n",
    "    start = time.time()\n",
    "    yield \n",
    "    end = time.time()\n",
    "    print(\"(시간측정(Elapsed): {:.2f} 초)\".format(end-start))\n",
    "\n",
    "def main():\n",
    "    with timer():\n",
    "        print(\"얼마나 오래 걸릴까요?\")\n",
    "        time.sleep(1)\n",
    "\n",
    "if __name__ == \"__main__\":\n",
    "    main()"
   ]
  },
  {
   "cell_type": "code",
   "execution_count": null,
   "id": "fdbf887b-2a5e-4070-845b-be9905739091",
   "metadata": {},
   "outputs": [],
   "source": [
    "#step7\n",
    "# -*- coding: utf-8 -*-\n",
    "import contextlib\n",
    "import step6\n",
    "import time \n",
    "\n",
    "@contextlib.contextmanager\n",
    "def openReadOnly(fileName):\n",
    "\n",
    "\n",
    "    read_file = open(fileName, mode='r', encoding=\"utf-8\")\n",
    "\n",
    "    yield read_file\n",
    "\n",
    "    read_file.close()\n",
    "\n",
    "def main(fileName):\n",
    "    with openReadOnly(fileName) as file:\n",
    "        text= file.read()\n",
    "    \n",
    "    n = 0\n",
    "    for word in text.split():\n",
    "        if word in ['메타', '개인정보']:\n",
    "            n +=1\n",
    "    print(\"단어 갯수:\", n)\n",
    "\n",
    "if __name__ == \"__main__\":\n",
    "    fileName = \"data/fun.txt\"\n",
    "    with step6.timer():\n",
    "        main(fileName)\n",
    "        time.sleep(0.25)"
   ]
  }
 ],
 "metadata": {
  "kernelspec": {
   "display_name": "Python 3 (ipykernel)",
   "language": "python",
   "name": "python3"
  },
  "language_info": {
   "codemirror_mode": {
    "name": "ipython",
    "version": 3
   },
   "file_extension": ".py",
   "mimetype": "text/x-python",
   "name": "python",
   "nbconvert_exporter": "python",
   "pygments_lexer": "ipython3",
   "version": "3.9.12"
  }
 },
 "nbformat": 4,
 "nbformat_minor": 5
}
